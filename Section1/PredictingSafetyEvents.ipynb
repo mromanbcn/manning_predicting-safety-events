{
 "cells": [
  {
   "cell_type": "code",
   "execution_count": 88,
   "metadata": {},
   "outputs": [],
   "source": [
    "import pandas as pd\n",
    "from pandas_profiling import ProfileReport"
   ]
  },
  {
   "cell_type": "code",
   "execution_count": 89,
   "metadata": {
    "collapsed": true
   },
   "outputs": [
    {
     "data": {
      "application/vnd.jupyter.widget-view+json": {
       "model_id": "0f44895542ee4431a2d089d8e6cb8d72",
       "version_major": 2,
       "version_minor": 0
      },
      "text/plain": [
       "HBox(children=(HTML(value='Summarize dataset'), FloatProgress(value=0.0, max=26.0), HTML(value='')))"
      ]
     },
     "metadata": {},
     "output_type": "display_data"
    },
    {
     "name": "stdout",
     "output_type": "stream",
     "text": [
      "\n"
     ]
    },
    {
     "data": {
      "application/vnd.jupyter.widget-view+json": {
       "model_id": "02ef6ee8693b42cb979aa72d7215a6fe",
       "version_major": 2,
       "version_minor": 0
      },
      "text/plain": [
       "HBox(children=(HTML(value='Generate report structure'), FloatProgress(value=0.0, max=1.0), HTML(value='')))"
      ]
     },
     "metadata": {},
     "output_type": "display_data"
    },
    {
     "name": "stdout",
     "output_type": "stream",
     "text": [
      "\n"
     ]
    },
    {
     "data": {
      "application/vnd.jupyter.widget-view+json": {
       "model_id": "",
       "version_major": 2,
       "version_minor": 0
      },
      "text/plain": [
       "HBox(children=(HTML(value='Render widgets'), FloatProgress(value=0.0, max=1.0), HTML(value='')))"
      ]
     },
     "metadata": {},
     "output_type": "display_data"
    },
    {
     "data": {
      "application/vnd.jupyter.widget-view+json": {
       "model_id": "bb566262e03541ee822c59d6b7bf7465",
       "version_major": 2,
       "version_minor": 0
      },
      "text/plain": [
       "VBox(children=(Tab(children=(Tab(children=(GridBox(children=(VBox(children=(GridspecLayout(children=(HTML(valu…"
      ]
     },
     "metadata": {},
     "output_type": "display_data"
    }
   ],
   "source": [
    "'''\n",
    "Workflow\n",
    "\n",
    "I read the San Francisco fileO and then used the pandas-profiling to learn about the data.\n",
    "'''\n",
    "\n",
    "data = pd.read_parquet('datasets/safety-SanFrancisco.parquet')\n",
    "\n",
    "profile = ProfileReport(data, title=\"Pandas Profiling Report\", html={'style': {'full_width': True}})\n",
    "profile.to_widgets()"
   ]
  },
  {
   "cell_type": "code",
   "execution_count": null,
   "metadata": {},
   "outputs": [],
   "source": [
    "# In the overview/warnings it mentioned that dataType and extendedProperties had a constant value\n",
    "# I dropped the columns. \n",
    "data = data.drop(columns=['dataType', 'extendedProperties'])\n",
    "\n",
    "# Looking at the variable info, dateTime was a string so I converted it to datatime\n",
    "data = data.astype({'dateTime':'datetime64'})\n",
    "\n",
    "# According to Overview/Warnings, Category and subcategory had less than 700 different \n",
    "# values so I converted them to categoricals\n",
    "data = data.astype({'category':'category'})\n",
    "data = data.astype({'subcategory':'category'})\n",
    "\n",
    "# According to variable info, \"source\" only had 8 different values so I converted it to categorical\n",
    "data = data.astype({'source':'category'})\n",
    "\n",
    "# According also to variable info, \"status\" only had 2 different values so I also converted it to categorical\n",
    "data = data.astype({'status':'category'})\n",
    "\n",
    "# Finally, one of the warnings showed that there were duplicates, so I removed the dups\n",
    "data = data.drop_duplicates()\n"
   ]
  },
  {
   "cell_type": "code",
   "execution_count": 106,
   "metadata": {},
   "outputs": [],
   "source": [
    "#Define a function to clean up the data and save it into a new parquet file\n",
    "\n",
    "def cleanUpData(inputFileName, outputFileName):\n",
    "    data = pd.read_parquet(inputFileName)\n",
    "\n",
    "    # Eliminate duplicate rows\n",
    "    data = data.drop_duplicates()\n",
    "    \n",
    "    # dataType and extendedProperties have a constant value. Drop the columns\n",
    "    data = data.drop(columns=['dataType', 'extendedProperties'])\n",
    "    \n",
    "    # Set dateTime column to datetime type\n",
    "    data = data.astype({'dateTime':'datetime64'})\n",
    "    \n",
    "    # Set category column as categorical type\n",
    "    data = data.astype({'category':'category'})\n",
    "\n",
    "    # Set subcategory column as categorical type\n",
    "    data = data.astype({'subcategory':'category'})\n",
    "\n",
    "    # Set source column as categorical type\n",
    "    data = data.astype({'source':'category'})\n",
    "\n",
    "    # Set status column as categorical type\n",
    "    data = data.astype({'status':'category'})\n",
    "\n",
    "    # Set dataSubtype column as categorical type\n",
    "    data = data.astype({'dataSubtype':'category'})\n",
    "\n",
    "    # Set address column as categorical type\n",
    "    data = data.astype({'address':'string'})\n",
    "    \n",
    "    data.to_parquet(outputFileName, compression='snappy')\n",
    "\n",
    "    return data"
   ]
  },
  {
   "cell_type": "code",
   "execution_count": 107,
   "metadata": {
    "collapsed": true
   },
   "outputs": [
    {
     "name": "stdout",
     "output_type": "stream",
     "text": [
      "<class 'pandas.core.frame.DataFrame'>\n",
      "Int64Index: 3958888 entries, 0 to 3958888\n",
      "Data columns (total 10 columns):\n",
      " #   Column       Dtype         \n",
      "---  ------       -----         \n",
      " 0   requestId    int64         \n",
      " 1   dataSubtype  category      \n",
      " 2   dateTime     datetime64[ns]\n",
      " 3   category     category      \n",
      " 4   subcategory  category      \n",
      " 5   status       category      \n",
      " 6   address      string        \n",
      " 7   latitude     float64       \n",
      " 8   longitude    float64       \n",
      " 9   source       category      \n",
      "dtypes: category(5), datetime64[ns](1), float64(2), int64(1), string(1)\n",
      "memory usage: 203.9 MB\n"
     ]
    }
   ],
   "source": [
    "# San Francisco\n",
    "inputFileName = 'datasets/safety-SanFrancisco.parquet'\n",
    "outputFileName = 'datasets/safety-SanFrancisco_clean.parquet'\n",
    "\n",
    "data = cleanUpData(inputFileName, outputFileName)\n",
    "\n",
    "data.info()\n",
    "#profile = ProfileReport(data, title=\"Pandas Profiling Report\", html={'style': {'full_width': True}})\n",
    "#profile.to_widgets()"
   ]
  },
  {
   "cell_type": "code",
   "execution_count": 108,
   "metadata": {
    "collapsed": true
   },
   "outputs": [
    {
     "name": "stdout",
     "output_type": "stream",
     "text": [
      "<class 'pandas.core.frame.DataFrame'>\n",
      "Int64Index: 437570 entries, 0 to 437569\n",
      "Data columns (total 10 columns):\n",
      " #   Column       Non-Null Count   Dtype         \n",
      "---  ------       --------------   -----         \n",
      " 0   requestId    437570 non-null  int64         \n",
      " 1   dataSubtype  437570 non-null  category      \n",
      " 2   dateTime     437570 non-null  datetime64[ns]\n",
      " 3   category     437570 non-null  category      \n",
      " 4   subcategory  0 non-null       category      \n",
      " 5   status       0 non-null       category      \n",
      " 6   address      437569 non-null  string        \n",
      " 7   latitude     437230 non-null  float64       \n",
      " 8   longitude    437230 non-null  float64       \n",
      " 9   source       0 non-null       category      \n",
      "dtypes: category(5), datetime64[ns](1), float64(2), int64(1), string(1)\n",
      "memory usage: 22.5 MB\n"
     ]
    }
   ],
   "source": [
    "# Seattle\n",
    "inputFileName = 'datasets/safety-Seattle.parquet'\n",
    "outputFileName = 'datasets/safety-Seattle_clean.parquet'\n",
    "\n",
    "data = cleanUpData(inputFileName, outputFileName)\n",
    "\n",
    "data.info()\n",
    "\n",
    "#profile = ProfileReport(data, title=\"Pandas Profiling Report\", html={'style': {'full_width': True}})\n",
    "#profile.to_widgets()"
   ]
  },
  {
   "cell_type": "code",
   "execution_count": 109,
   "metadata": {
    "collapsed": true
   },
   "outputs": [
    {
     "name": "stdout",
     "output_type": "stream",
     "text": [
      "<class 'pandas.core.frame.DataFrame'>\n",
      "Int64Index: 11305631 entries, 0 to 11305632\n",
      "Data columns (total 10 columns):\n",
      " #   Column       Dtype         \n",
      "---  ------       -----         \n",
      " 0   requestId    int64         \n",
      " 1   dataSubtype  category      \n",
      " 2   dateTime     datetime64[ns]\n",
      " 3   category     category      \n",
      " 4   subcategory  category      \n",
      " 5   status       category      \n",
      " 6   address      string        \n",
      " 7   latitude     float64       \n",
      " 8   longitude    float64       \n",
      " 9   source       category      \n",
      "dtypes: category(5), datetime64[ns](1), float64(2), int64(1), string(1)\n",
      "memory usage: 593.1 MB\n"
     ]
    }
   ],
   "source": [
    "# New York\n",
    "inputFileName = 'datasets/safety-Nyc.parquet'\n",
    "outputFileName = 'datasets/safety-Nyc_clean.parquet'\n",
    "\n",
    "data = cleanUpData(inputFileName, outputFileName)\n",
    "\n",
    "data.info()\n",
    "# profile = ProfileReport(data, title=\"Pandas Profiling Report\", html={'style': {'full_width': True}})\n",
    "# profile.to_widgets()"
   ]
  },
  {
   "cell_type": "code",
   "execution_count": 103,
   "metadata": {
    "collapsed": true
   },
   "outputs": [
    {
     "name": "stdout",
     "output_type": "stream",
     "text": [
      "          requestId dataSubtype            dateTime                category  \\\n",
      "78724        161951     311_All 2019-02-09 00:55:41          HEAT/HOT WATER   \n",
      "88276        181635     311_All 2019-02-09 01:00:44        Animal in a Park   \n",
      "128284       264165     311_All 2019-02-09 00:38:35  HPD Literature Request   \n",
      "132723       273286     311_All 2019-02-09 01:52:37          HEAT/HOT WATER   \n",
      "146527       301822     311_All 2019-02-09 00:16:45   Street Sign - Missing   \n",
      "...             ...         ...                 ...                     ...   \n",
      "11177920    2653658     311_All 2019-02-09 00:40:21     Noise - Residential   \n",
      "11184785    2667933     311_All 2019-02-09 00:01:19        Blocked Driveway   \n",
      "11185007    2668368     311_All 2019-02-09 00:29:31        Blocked Driveway   \n",
      "11224783    2750429     311_All 2019-02-09 00:12:06     Noise - Residential   \n",
      "11277837    2859850     311_All 2019-02-09 00:49:40                PLUMBING   \n",
      "\n",
      "                            subcategory  status               address  \\\n",
      "78724                   ENTIRE BUILDING  Closed    1308 OAKLEY STREET   \n",
      "88276                     Dog Off Leash  Closed                  <NA>   \n",
      "128284    The ABCs of Housing - Spanish  Closed                  <NA>   \n",
      "132723                  ENTIRE BUILDING  Closed   2761 DECATUR AVENUE   \n",
      "146527                      Speed Limit  Closed    1799 WEST 3 STREET   \n",
      "...                                 ...     ...                   ...   \n",
      "11177920               Loud Music/Party  Closed      639 UNION STREET   \n",
      "11184785                 Partial Access  Closed  85-10 KINGSTON PLACE   \n",
      "11185007                      No Access  Closed   1488 PROSPECT PLACE   \n",
      "11224783               Loud Music/Party  Closed      101-51 98 STREET   \n",
      "11277837                   WATER SUPPLY  Closed  360 WEST  117 STREET   \n",
      "\n",
      "           latitude  longitude source  \n",
      "78724     40.878541 -73.852885    NaN  \n",
      "88276           NaN        NaN    NaN  \n",
      "128284          NaN        NaN    NaN  \n",
      "132723    40.866332 -73.887053    NaN  \n",
      "146527    40.603586 -73.975918    NaN  \n",
      "...             ...        ...    ...  \n",
      "11177920  40.677815 -73.984061    NaN  \n",
      "11184785  40.714722 -73.792810    NaN  \n",
      "11185007  40.673047 -73.927031    NaN  \n",
      "11224783  40.684659 -73.843163    NaN  \n",
      "11277837  40.805870 -73.956737    NaN  \n",
      "\n",
      "[385 rows x 10 columns]\n"
     ]
    }
   ],
   "source": [
    "# Snippet to filter entries by date\n",
    "\n",
    "#mask = (data['dateTime'] > '2019-02-09 00:00:00') & (data['dateTime'] <= '2019-02-09 01:59:59')\n",
    "#oneday = data.loc[mask]\n",
    "#print(oneday)"
   ]
  },
  {
   "cell_type": "code",
   "execution_count": 37,
   "metadata": {
    "collapsed": true
   },
   "outputs": [
    {
     "name": "stdout",
     "output_type": "stream",
     "text": [
      "<class 'pandas.core.frame.DataFrame'>\n",
      "RangeIndex: 437570 entries, 0 to 437569\n",
      "Data columns (total 12 columns):\n",
      " #   Column              Non-Null Count   Dtype  \n",
      "---  ------              --------------   -----  \n",
      " 0   requestId           437570 non-null  int64  \n",
      " 1   dataType            437570 non-null  object \n",
      " 2   dataSubtype         437570 non-null  object \n",
      " 3   dateTime            437570 non-null  object \n",
      " 4   category            437570 non-null  object \n",
      " 5   subcategory         0 non-null       object \n",
      " 6   status              0 non-null       object \n",
      " 7   address             437569 non-null  object \n",
      " 8   latitude            437230 non-null  float64\n",
      " 9   longitude           437230 non-null  float64\n",
      " 10  source              0 non-null       object \n",
      " 11  extendedProperties  437570 non-null  object \n",
      "dtypes: float64(2), int64(1), object(9)\n",
      "memory usage: 40.1+ MB\n"
     ]
    }
   ],
   "source": [
    "# Snippet to filter entries by address\n",
    "\n",
    "#mask = (data['address'] == '8th Av / Cherry St')\n",
    "#oneAddress = data.loc[mask]\n",
    "#print(oneAddress)\n"
   ]
  }
 ],
 "metadata": {
  "kernelspec": {
   "display_name": "predicting-safety-events",
   "language": "python",
   "name": "predicting-safety-events"
  },
  "language_info": {
   "codemirror_mode": {
    "name": "ipython",
    "version": 3
   },
   "file_extension": ".py",
   "mimetype": "text/x-python",
   "name": "python",
   "nbconvert_exporter": "python",
   "pygments_lexer": "ipython3",
   "version": "3.7.9"
  }
 },
 "nbformat": 4,
 "nbformat_minor": 4
}
